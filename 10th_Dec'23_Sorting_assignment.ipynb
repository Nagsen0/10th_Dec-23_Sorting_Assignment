{
  "nbformat": 4,
  "nbformat_minor": 0,
  "metadata": {
    "colab": {
      "provenance": []
    },
    "kernelspec": {
      "name": "python3",
      "display_name": "Python 3"
    },
    "language_info": {
      "name": "python"
    }
  },
  "cells": [
    {
      "cell_type": "markdown",
      "source": [
        "1. Given an array of n numbers, give an algorithm which gives the element appearing maximum number of times?"
      ],
      "metadata": {
        "id": "auW-EoPyy9RT"
      }
    },
    {
      "cell_type": "code",
      "execution_count": null,
      "metadata": {
        "colab": {
          "base_uri": "https://localhost:8080/"
        },
        "id": "5zFeR96oy2Cv",
        "outputId": "1f73cc36-69ba-4a68-e043-2dd3510ac57f"
      },
      "outputs": [
        {
          "output_type": "execute_result",
          "data": {
            "text/plain": [
              "4"
            ]
          },
          "metadata": {},
          "execution_count": 4
        }
      ],
      "source": [
        "def find_max_element_bubble_sort(arr):\n",
        "  n=len(arr)\n",
        "  max_element=arr[0]\n",
        "  max_count=1\n",
        "\n",
        "  for i in range(n-1):\n",
        "    current_element=arr[i]\n",
        "    current_count=1\n",
        "\n",
        "    for j in range(0, n-i-1):\n",
        "      if arr[j]>arr[j+1]:\n",
        "        arr[j], arr[j+1]=arr[j+1], arr[j]  # swap element\n",
        "\n",
        "      if arr[j]==current_element:\n",
        "        current_count+=1\n",
        "\n",
        "      else:\n",
        "        if current_count > max_count:\n",
        "          max_element=current_element\n",
        "          max_count=current_count\n",
        "\n",
        "        current_elemen\n",
        "        t=arr[j]\n",
        "        current_count=1\n",
        "\n",
        "    # check for the last element in each pass\n",
        "    if current_count > max_count:\n",
        "      max_element = current_element\n",
        "      max_count = current_count\n",
        "\n",
        "  return max_element\n",
        "\n",
        "arr=[2,3,1,5,4,6,5,5,4,4,4,4,4,4,4]\n",
        "find_max_element_bubble_sort(arr)"
      ]
    },
    {
      "cell_type": "markdown",
      "source": [
        "2. We are given a list of n-1 integers and these integers are in the range of 1 to n. There are no duplicates in the list. One of the integers is missing in the list. Give an algorithm to find that element Ex: [1,2,4,6,3,7,8] 5 is the missing num."
      ],
      "metadata": {
        "id": "dUNBWH2l3DUd"
      }
    },
    {
      "cell_type": "code",
      "source": [
        "def bubble_sort(arr):\n",
        "\n",
        "  for i in range(len(arr)-1,0,-1):\n",
        "\n",
        "    for j in range(i):\n",
        "      if arr[j]>arr[j+1]:\n",
        "\n",
        "        # swap elements\n",
        "        arr[j], arr[j+1]=arr[j+1], arr[j]\n",
        "\n",
        "\n",
        "\n",
        "def find_missing_element(arr):\n",
        "  bubble_sort(arr)\n",
        "\n",
        "  for i in range(len(arr)):\n",
        "\n",
        "    if arr[i]!=i+1:\n",
        "      return i+1\n",
        "\n",
        "  # if no missing element is found before the end, return next expected number\n",
        "  return len(arr)+1\n",
        "\n",
        "arr=[1,2,3,4,5,6,8,9]\n",
        "find_missing_element(arr)"
      ],
      "metadata": {
        "colab": {
          "base_uri": "https://localhost:8080/"
        },
        "id": "JToZ5v8G5fFi",
        "outputId": "e5e61a3b-3a4f-405c-b640-44209ca511e0"
      },
      "execution_count": null,
      "outputs": [
        {
          "output_type": "execute_result",
          "data": {
            "text/plain": [
              "7"
            ]
          },
          "metadata": {},
          "execution_count": 39
        }
      ]
    },
    {
      "cell_type": "markdown",
      "source": [
        "3. Given an array of n positive numbers. All numbers occurs even number of times except 1 which occurs odd number of times. Find that number in o(n) time and o(1) space. Ex: [1,2,3,2,3,1,3]. 3 is repeats odd times."
      ],
      "metadata": {
        "id": "-o8fai03OLBV"
      }
    },
    {
      "cell_type": "code",
      "source": [
        "def find_odd_occurrence(arr):\n",
        "\n",
        "  xor=0\n",
        "  for num in arr:\n",
        "    xor ^= num  # xor will cancel out the even occurrence number\n",
        "                # xor it perform bitwise operation\n",
        "  return xor\n",
        "\n",
        "arr=[1,3,2,4,1,4,2,3,5,6,3,3,7,5,6,8,8]\n",
        "odd_number=find_odd_occurrence(arr)\n",
        "\n",
        "if odd_number is not None:\n",
        "  print(f\"Number with odd occurrence: {odd_number}\")\n",
        "else:\n",
        "  print(\"All numbers occur even times.\")\n",
        "\n",
        "# Time complexity: o(n)\n",
        "# space complexity: o(1)"
      ],
      "metadata": {
        "colab": {
          "base_uri": "https://localhost:8080/"
        },
        "id": "yPAvbJBrDN_Y",
        "outputId": "aa5bdbd7-06e1-4150-f2f8-7c6b8d31aaa5"
      },
      "execution_count": null,
      "outputs": [
        {
          "output_type": "stream",
          "name": "stdout",
          "text": [
            "Number with odd occurrence: 7\n"
          ]
        }
      ]
    },
    {
      "cell_type": "markdown",
      "source": [
        "4. Given an array of n elements. Find two elements in the array such that their sum is equal to given element k."
      ],
      "metadata": {
        "id": "qygGWgAG6EF2"
      }
    },
    {
      "cell_type": "code",
      "source": [
        "def find_two_elements_sum(arr,k):\n",
        "\n",
        "  for i in range(len(arr)-1,0,-1):\n",
        "\n",
        "    for j in range(i):\n",
        "\n",
        "      if arr[i]+arr[j]==k:\n",
        "        return arr[i], arr[j]\n",
        "  # this will handle case if there are no such elements\n",
        "  return \"There are no such two elements\"\n",
        "\n",
        "arr=[1,5,2,7,3,8,99,1]\n",
        "find_two_elements_sum(arr,100)"
      ],
      "metadata": {
        "colab": {
          "base_uri": "https://localhost:8080/"
        },
        "id": "GWO7fLuIfLr3",
        "outputId": "a78b3987-dccf-47fa-e771-8085ec95976d"
      },
      "execution_count": null,
      "outputs": [
        {
          "output_type": "execute_result",
          "data": {
            "text/plain": [
              "(1, 99)"
            ]
          },
          "metadata": {},
          "execution_count": 13
        }
      ]
    },
    {
      "cell_type": "markdown",
      "source": [
        "5. Given an array of both positive and negative numbers, find two numbers such that their sum is closest to 0. Example: [1,60,-10,70,-80,85]. Ans: -85,80"
      ],
      "metadata": {
        "id": "_tLYlG9QHEUv"
      }
    },
    {
      "cell_type": "code",
      "source": [
        "def find_sum_closest_to_zero(arr):\n",
        "  num1=None\n",
        "  num2=None\n",
        "  closest_to_zero=float('inf')\n",
        "  for i in range(len(arr)-1,0,-1):\n",
        "\n",
        "    for j in range(i):\n",
        "      current_sum=arr[i]+arr[j]\n",
        "      if current_sum>=0 and current_sum < closest_to_zero:\n",
        "        closest_to_zero=current_sum\n",
        "        num1=arr[i]\n",
        "        num2=arr[j]\n",
        "\n",
        "  return num1, num2\n",
        "\n",
        "arr=[1,5,2,6,2,7,3,-9,-8,-3,-2,-1,-5]\n",
        "find_sum_closest_to_zero(arr)"
      ],
      "metadata": {
        "colab": {
          "base_uri": "https://localhost:8080/"
        },
        "id": "6doMpfO-E40f",
        "outputId": "f46eb10a-6409-4dc7-c956-2fdff330a71e"
      },
      "execution_count": null,
      "outputs": [
        {
          "output_type": "execute_result",
          "data": {
            "text/plain": [
              "(-5, 5)"
            ]
          },
          "metadata": {},
          "execution_count": 53
        }
      ]
    },
    {
      "cell_type": "markdown",
      "source": [
        "6. Given an array of n elements. Find three elements such that their sum is equal to the given number."
      ],
      "metadata": {
        "id": "77uOJpLncJYk"
      }
    },
    {
      "cell_type": "code",
      "source": [
        "def bubble_sort(arr):\n",
        "  for i in range(len(arr)-1,0,-1):\n",
        "    for j in range(i):\n",
        "      if arr[j]>arr[j+1]:\n",
        "        arr[j], arr[j+1] = arr[j+1], arr[j]\n",
        "\n",
        "\n",
        "\n",
        "\n",
        "def find_three_sum(arr,target):\n",
        "  bubble_sort(arr)\n",
        "  for i in range(len(arr)-2):\n",
        "    left, right= i+1, len(arr)-1\n",
        "\n",
        "    while (left<right):\n",
        "\n",
        "      current_sum=arr[i]+arr[left]+arr[right]\n",
        "      if current_sum==target:\n",
        "        return arr[i], arr[left], arr[right]\n",
        "\n",
        "      elif current_sum < target:\n",
        "        left+=1    # move left pointer to increase the sum\n",
        "\n",
        "      else:\n",
        "        right-=1  # move right pointer to decrease the sum\n",
        "\n",
        "\n",
        "  return \"No such elements are found\"\n",
        "\n",
        "\n",
        "arr=[1,1,3,5,7,8]\n",
        "\n",
        "find_three_sum(arr,10)"
      ],
      "metadata": {
        "colab": {
          "base_uri": "https://localhost:8080/"
        },
        "id": "OPs86K-9hAKd",
        "outputId": "31af5aa2-fa49-43e4-c2ae-1595ff0eef4d"
      },
      "execution_count": null,
      "outputs": [
        {
          "output_type": "execute_result",
          "data": {
            "text/plain": [
              "(1, 1, 8)"
            ]
          },
          "metadata": {},
          "execution_count": 62
        }
      ]
    },
    {
      "cell_type": "markdown",
      "source": [
        "7. Given an array of n elements. Find three elements i, j, k in the array such that i * i + j * j = k * k.\n"
      ],
      "metadata": {
        "id": "JN8WSSuDM07E"
      }
    },
    {
      "cell_type": "code",
      "source": [
        "def bubble_sort(arr):\n",
        "\n",
        "  for i in range(len(arr)-1, 0, -1):\n",
        "    for j in range(i):\n",
        "      if arr[j]>arr[j+1]:\n",
        "        arr[j], arr[j+1] = arr[j+1], arr[j]\n",
        "\n",
        "\n",
        "def find_sides_of_right_angle(arr):\n",
        "  bubble_sort(arr)\n",
        "\n",
        "  for i in range(len(arr)-2):\n",
        "\n",
        "    left, right = i+1, len(arr)-1\n",
        "\n",
        "    while (left < right):\n",
        "\n",
        "      if arr[right]**2 == arr[i]**2 + arr[left]**2:\n",
        "        return arr[right], arr[left], arr[i]\n",
        "\n",
        "\n",
        "      elif left+1 < right:\n",
        "        left+=1     # to move left pointer right side\n",
        "\n",
        "      else:\n",
        "        right-=1   # to move right pointer left side for further iteration\n",
        "        left=i+1   # restore left pointer at it's initial position\n",
        "  return \"No such elements are found\"\n",
        "\n",
        "\n",
        "arr=[1,6,2,8,9,3,6,44,5,4]\n",
        "find_sides_of_right_angle(arr)"
      ],
      "metadata": {
        "colab": {
          "base_uri": "https://localhost:8080/"
        },
        "id": "vFUqLu1brn5h",
        "outputId": "7a20008f-9831-4368-db4d-439576667401"
      },
      "execution_count": null,
      "outputs": [
        {
          "output_type": "execute_result",
          "data": {
            "text/plain": [
              "(5, 4, 3)"
            ]
          },
          "metadata": {},
          "execution_count": 78
        }
      ]
    },
    {
      "cell_type": "markdown",
      "source": [
        "8. An element is a majority if it appears more that n/2 times. Give an algorithm takes an array of n element as argument and identifies a majority (if it exists)."
      ],
      "metadata": {
        "id": "_rnWUO2LhWco"
      }
    },
    {
      "cell_type": "code",
      "source": [
        "def bubble_sort(arr):\n",
        "\n",
        "  for i in range(len(arr)-1,0,-1):\n",
        "    for j in range(i):\n",
        "      if arr[j] > arr[j+1]:\n",
        "        arr[j], arr[j+1] = arr[j+1], arr[j]\n",
        "\n",
        "def find_majority_element(arr):\n",
        "\n",
        "  bubble_sort(arr)\n",
        "\n",
        "  n=len(arr)\n",
        "  prev_count=1\n",
        "  majority=[] # in case if there are more that one majority element\n",
        "  for i in range(len(arr)-1):\n",
        "    prev = arr[i]\n",
        "\n",
        "    if arr[i+1]==prev:\n",
        "      prev_count+=1\n",
        "\n",
        "    if prev_count >= n/2:\n",
        "      majority.append(arr[i])\n",
        "      prev_count=1    # reset prev count to one to check for another majority element\n",
        "\n",
        "\n",
        "  if not majority:\n",
        "    return \"No majority element found\"\n",
        "\n",
        "  else:\n",
        "    return f\"Majority element has been found: {majority}\"\n",
        "\n",
        "arr=[2,3,2,3,2,3,2,3,2,3]\n",
        "find_majority_element(arr)"
      ],
      "metadata": {
        "colab": {
          "base_uri": "https://localhost:8080/",
          "height": 36
        },
        "id": "Yh7W2UmzYoNB",
        "outputId": "9cd8e07d-f663-4142-9fcc-44db3179932d"
      },
      "execution_count": null,
      "outputs": [
        {
          "output_type": "execute_result",
          "data": {
            "text/plain": [
              "'Majority element has been found: [2, 3]'"
            ],
            "application/vnd.google.colaboratory.intrinsic+json": {
              "type": "string"
            }
          },
          "metadata": {},
          "execution_count": 99
        }
      ]
    },
    {
      "cell_type": "markdown",
      "source": [
        "9. Given n * n matrix, and in each row all 1's are followed by 0's. Find the row with the maximum number of 0's."
      ],
      "metadata": {
        "id": "J6o4pDc1pEms"
      }
    },
    {
      "cell_type": "code",
      "source": [
        "def find_row_with_max_zero(arr):\n",
        "\n",
        "  max_count=0\n",
        "  row_number=None\n",
        "  for i in range(len(arr)):\n",
        "    zero_count=0\n",
        "    first_zero_found=False\n",
        "    for j in range(len(arr)):\n",
        "      if arr[i][j]==0:\n",
        "        first_zero_found=True\n",
        "        zero_count+=1\n",
        "\n",
        "      elif first_zero_found:  # stop counting after encountering a 1 after 0\n",
        "        break\n",
        "\n",
        "    if zero_count>max_count:\n",
        "      max_count=zero_count\n",
        "      row_number= i\n",
        "\n",
        "  return row_number  # this will return the index number of the row\n",
        "\n",
        "# indexing starts from 0\n",
        "\n",
        "arr=[[0,0,0,0],\n",
        "     [1,1,1,0],\n",
        "     [0,1,0,0],\n",
        "     [1,0,0,0]]\n",
        "# here the row with index 2 is invalid according to problem statement\n",
        "row_number=find_row_with_max_zero(arr)\n",
        "print(f\"Row with index: {row_number}\")\n"
      ],
      "metadata": {
        "id": "Q7Iqrl-pthNa",
        "colab": {
          "base_uri": "https://localhost:8080/"
        },
        "outputId": "08750e68-90d4-40de-b9d6-4b4c8dce9da6"
      },
      "execution_count": 23,
      "outputs": [
        {
          "output_type": "stream",
          "name": "stdout",
          "text": [
            "Row with index: 0\n"
          ]
        }
      ]
    },
    {
      "cell_type": "markdown",
      "source": [
        "10. Sort an array of 0's, 1's and 2's [or R's, G's and B's]: Given an array A[] consisting of 0's, 1's and 2's give an algorithm for sorting a[]. The algorithm should put all 0's first, then all 1's and finally all 2's at the end. Example Input = [0,1,1,0,1,2,1,2,0,0,0,1], output=[0,0,0,0,0,1,1,1,1,1,2,2]."
      ],
      "metadata": {
        "id": "vUZ9GiQzAM66"
      }
    },
    {
      "cell_type": "code",
      "source": [
        "def bubble_sort(arr):\n",
        "\n",
        "  for i in range(len(arr)-1, 0, -1):\n",
        "    for j in range(i):\n",
        "      if arr[j]>arr[j+1]:\n",
        "        arr[j], arr[j+1] = arr[j+1], arr[j]\n",
        "\n",
        "\n",
        "arr=[0,1,1,2,1,0,2,1,0,0,2,1,2,0,0]\n",
        "print(\"Array before sorting:\",arr)\n",
        "bubble_sort(arr)\n",
        "print(\"Array after sorting:\",arr)"
      ],
      "metadata": {
        "colab": {
          "base_uri": "https://localhost:8080/"
        },
        "id": "d8Of_rOdxAVz",
        "outputId": "6a3165f8-6896-4ce5-e6ed-0fb046ea5760"
      },
      "execution_count": 28,
      "outputs": [
        {
          "output_type": "stream",
          "name": "stdout",
          "text": [
            "Array before sorting: [0, 1, 1, 2, 1, 0, 2, 1, 0, 0, 2, 1, 2, 0, 0]\n",
            "Array after sorting: [0, 0, 0, 0, 0, 0, 1, 1, 1, 1, 1, 2, 2, 2, 2]\n"
          ]
        }
      ]
    },
    {
      "cell_type": "code",
      "source": [],
      "metadata": {
        "id": "lm14DAoSC18m"
      },
      "execution_count": null,
      "outputs": []
    }
  ]
}